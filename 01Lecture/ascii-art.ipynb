{
 "cells": [
  {
   "cell_type": "code",
   "execution_count": null,
   "id": "f1062a3c",
   "metadata": {},
   "outputs": [],
   "source": [
    "# reference: https://www.geeksforgeeks.org/python-ascii-art-using-pyfiglet-module/"
   ]
  },
  {
   "cell_type": "code",
   "execution_count": 1,
   "id": "865b498c",
   "metadata": {},
   "outputs": [
    {
     "name": "stdout",
     "output_type": "stream",
     "text": [
      " _   _ _____ _     _     ___   __        _____  ____  _     ____  \n",
      "| | | | ____| |   | |   / _ \\  \\ \\      / / _ \\|  _ \\| |   |  _ \\ \n",
      "| |_| |  _| | |   | |  | | | |  \\ \\ /\\ / / | | | |_) | |   | | | |\n",
      "|  _  | |___| |___| |__| |_| |   \\ V  V /| |_| |  _ <| |___| |_| |\n",
      "|_| |_|_____|_____|_____\\___/     \\_/\\_/  \\___/|_| \\_\\_____|____/ \n",
      "                                                                  \n",
      "\n"
     ]
    }
   ],
   "source": [
    "import pyfiglet\n",
    "\n",
    "font = pyfiglet.figlet_format('HELLO WORLD')\n",
    "print(font)"
   ]
  },
  {
   "cell_type": "code",
   "execution_count": 2,
   "id": "1cebbfda",
   "metadata": {},
   "outputs": [
    {
     "name": "stdout",
     "output_type": "stream",
     "text": [
      " ____                  _       _   _             \n",
      "/ ___|  __ _ _ __ __ _| |__   | | | | __ _  __ _ \n",
      "\\___ \\ / _` | '__/ _` | '_ \\  | |_| |/ _` |/ _` |\n",
      " ___) | (_| | | | (_| | | | | |  _  | (_| | (_| |\n",
      "|____/ \\__,_|_|  \\__,_|_| |_| |_| |_|\\__,_|\\__, |\n",
      "                                              |_|\n",
      "\n"
     ]
    }
   ],
   "source": [
    "import pyfiglet\n",
    "\n",
    "font = pyfiglet.figlet_format('Sarah Haq')\n",
    "print(font)"
   ]
  },
  {
   "cell_type": "code",
   "execution_count": 3,
   "id": "c8e135a9",
   "metadata": {},
   "outputs": [
    {
     "name": "stdout",
     "output_type": "stream",
     "text": [
      "   _____                  __       __  __           \n",
      "  / ___/____ __________ _/ /_     / / / /___ _____ _\n",
      "  \\__ \\/ __ `/ ___/ __ `/ __ \\   / /_/ / __ `/ __ `/\n",
      " ___/ / /_/ / /  / /_/ / / / /  / __  / /_/ / /_/ / \n",
      "/____/\\__,_/_/   \\__,_/_/ /_/  /_/ /_/\\__,_/\\__, /  \n",
      "                                              /_/   \n",
      "\n"
     ]
    }
   ],
   "source": [
    "font = pyfiglet.figlet_format('Sarah Haq', font = 'Slant')\n",
    "print(font)"
   ]
  },
  {
   "cell_type": "code",
   "execution_count": 4,
   "id": "d6c3b34c",
   "metadata": {},
   "outputs": [
    {
     "name": "stdout",
     "output_type": "stream",
     "text": [
      "  ********                            **        **      **                  \n",
      " **//////                            /**       /**     /**            ****  \n",
      "/**         ******   ******  ******  /**       /**     /**  ******   **//** \n",
      "/********* //////** //**//* //////** /******   /********** //////** /** /** \n",
      "////////**  *******  /** /   ******* /**///**  /**//////**  ******* //***** \n",
      "       /** **////**  /**    **////** /**  /**  /**     /** **////**  ////** \n",
      " ******** //********/***   //********/**  /**  /**     /**//********    /***\n",
      "////////   //////// ///     //////// //   //   //      //  ////////     /// \n",
      "\n"
     ]
    }
   ],
   "source": [
    "font = pyfiglet.figlet_format('Sarah Haq', font = '3-d')\n",
    "print(font)"
   ]
  },
  {
   "cell_type": "code",
   "execution_count": 5,
   "id": "09d163bc",
   "metadata": {
    "scrolled": true
   },
   "outputs": [
    {
     "name": "stdout",
     "output_type": "stream",
     "text": [
      " SSS              h     H  H           \n",
      "S                 h     H  H           \n",
      " SSS   aa rrr  aa hhh   HHHH  aa  qqq  \n",
      "    S a a r   a a h  h  H  H a a q  q  \n",
      "SSSS  aaa r   aaa h  h  H  H aaa  qqq  \n",
      "                                    q  \n",
      "                                    qq \n",
      "\n"
     ]
    }
   ],
   "source": [
    "font = pyfiglet.figlet_format('Sarah Haq', font = 'alphabet')\n",
    "print(font)"
   ]
  },
  {
   "cell_type": "code",
   "execution_count": 6,
   "id": "b763e500",
   "metadata": {},
   "outputs": [
    {
     "name": "stdout",
     "output_type": "stream",
     "text": [
      " ___    __    ____    __    _   _    _   _    __    _____ \n",
      "/ __)  /__\\  (  _ \\  /__\\  ( )_( )  ( )_( )  /__\\  (  _  )\n",
      "\\__ \\ /(__)\\  )   / /(__)\\  ) _ (    ) _ (  /(__)\\  )(_)( \n",
      "(___/(__)(__)(_)\\_)(__)(__)(_) (_)  (_) (_)(__)(__)(___/\\\\\n",
      "\n"
     ]
    }
   ],
   "source": [
    "font = pyfiglet.figlet_format(\"Sarah Haq\", font=\"bulbhead\", width=100)\n",
    "print(font)"
   ]
  },
  {
   "cell_type": "code",
   "execution_count": 7,
   "id": "25837672",
   "metadata": {},
   "outputs": [
    {
     "name": "stdout",
     "output_type": "stream",
     "text": [
      "'##::::'##:'########:'##:::::::'##::::::::'#######::\n",
      " ##:::: ##: ##.....:: ##::::::: ##:::::::'##.... ##:\n",
      " ##:::: ##: ##::::::: ##::::::: ##::::::: ##:::: ##:\n",
      " #########: ######::: ##::::::: ##::::::: ##:::: ##:\n",
      " ##.... ##: ##...:::: ##::::::: ##::::::: ##:::: ##:\n",
      " ##:::: ##: ##::::::: ##::::::: ##::::::: ##:::: ##:\n",
      " ##:::: ##: ########: ########: ########:. #######::\n",
      "..:::::..::........::........::........:::.......:::\n",
      "'##:::::'##::'#######::'########::'##:::::::'########::\n",
      " ##:'##: ##:'##.... ##: ##.... ##: ##::::::: ##.... ##:\n",
      " ##: ##: ##: ##:::: ##: ##:::: ##: ##::::::: ##:::: ##:\n",
      " ##: ##: ##: ##:::: ##: ########:: ##::::::: ##:::: ##:\n",
      " ##: ##: ##: ##:::: ##: ##.. ##::: ##::::::: ##:::: ##:\n",
      " ##: ##: ##: ##:::: ##: ##::. ##:: ##::::::: ##:::: ##:\n",
      ". ###. ###::. #######:: ##:::. ##: ########: ########::\n",
      ":...::...::::.......:::..:::::..::........::........:::\n",
      "\n"
     ]
    }
   ],
   "source": [
    "font = pyfiglet.figlet_format(\"HELLO WORLD\", font=\"banner3-D\")\n",
    "print(font)"
   ]
  },
  {
   "cell_type": "code",
   "execution_count": null,
   "id": "d7acb8bb",
   "metadata": {},
   "outputs": [],
   "source": []
  }
 ],
 "metadata": {
  "kernelspec": {
   "display_name": "Python 3 (ipykernel)",
   "language": "python",
   "name": "python3"
  },
  "language_info": {
   "codemirror_mode": {
    "name": "ipython",
    "version": 3
   },
   "file_extension": ".py",
   "mimetype": "text/x-python",
   "name": "python",
   "nbconvert_exporter": "python",
   "pygments_lexer": "ipython3",
   "version": "3.11.3"
  }
 },
 "nbformat": 4,
 "nbformat_minor": 5
}
